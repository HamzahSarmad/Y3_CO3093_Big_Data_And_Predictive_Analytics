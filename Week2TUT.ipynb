{
  "nbformat": 4,
  "nbformat_minor": 0,
  "metadata": {
    "colab": {
      "name": "Week2TUT.ipynb",
      "provenance": [],
      "collapsed_sections": [],
      "authorship_tag": "ABX9TyPI+MqvYND0ZaH66OBTo3Yw",
      "include_colab_link": true
    },
    "kernelspec": {
      "name": "python3",
      "display_name": "Python 3"
    },
    "language_info": {
      "name": "python"
    }
  },
  "cells": [
    {
      "cell_type": "markdown",
      "metadata": {
        "id": "view-in-github",
        "colab_type": "text"
      },
      "source": [
        "<a href=\"https://colab.research.google.com/github/HamzahSarmad/Y3_CO3093_Big_Data_And_Predictive_Analytics/blob/main/Week2TUT.ipynb\" target=\"_parent\"><img src=\"https://colab.research.google.com/assets/colab-badge.svg\" alt=\"Open In Colab\"/></a>"
      ]
    },
    {
      "cell_type": "markdown",
      "source": [
        "# **Exercise 1**"
      ],
      "metadata": {
        "id": "HHZHKkP2w0sS"
      }
    },
    {
      "cell_type": "markdown",
      "source": [
        "# Import Pandas library and load in the data file"
      ],
      "metadata": {
        "id": "T0mot4RvuPYh"
      }
    },
    {
      "cell_type": "code",
      "execution_count": 1,
      "metadata": {
        "id": "adHDzFG9qwRv"
      },
      "outputs": [],
      "source": [
        "import pandas as pd\n",
        "df = pd.read_csv('/content/sample_data/police.csv')"
      ]
    },
    {
      "cell_type": "markdown",
      "source": [
        "# Printing first 10 rows of dataset"
      ],
      "metadata": {
        "id": "Fk3nCVmVue0I"
      }
    },
    {
      "cell_type": "code",
      "source": [
        "df.head(10)"
      ],
      "metadata": {
        "colab": {
          "base_uri": "https://localhost:8080/",
          "height": 896
        },
        "id": "C7qNzZCxuqcI",
        "outputId": "cfe82cbe-363c-4b69-89f5-acfbba193d95"
      },
      "execution_count": 2,
      "outputs": [
        {
          "output_type": "execute_result",
          "data": {
            "text/html": [
              "\n",
              "  <div id=\"df-d66cccbd-7377-4a0b-98a5-7c9e6ca45753\">\n",
              "    <div class=\"colab-df-container\">\n",
              "      <div>\n",
              "<style scoped>\n",
              "    .dataframe tbody tr th:only-of-type {\n",
              "        vertical-align: middle;\n",
              "    }\n",
              "\n",
              "    .dataframe tbody tr th {\n",
              "        vertical-align: top;\n",
              "    }\n",
              "\n",
              "    .dataframe thead th {\n",
              "        text-align: right;\n",
              "    }\n",
              "</style>\n",
              "<table border=\"1\" class=\"dataframe\">\n",
              "  <thead>\n",
              "    <tr style=\"text-align: right;\">\n",
              "      <th></th>\n",
              "      <th>raw_row_number</th>\n",
              "      <th>date</th>\n",
              "      <th>time</th>\n",
              "      <th>location</th>\n",
              "      <th>county_name</th>\n",
              "      <th>subject_age</th>\n",
              "      <th>subject_race</th>\n",
              "      <th>subject_sex</th>\n",
              "      <th>officer_id_hash</th>\n",
              "      <th>department_id</th>\n",
              "      <th>type</th>\n",
              "      <th>violation</th>\n",
              "    </tr>\n",
              "  </thead>\n",
              "  <tbody>\n",
              "    <tr>\n",
              "      <th>0</th>\n",
              "      <td>1</td>\n",
              "      <td>2011-01-01</td>\n",
              "      <td>01:00:00</td>\n",
              "      <td>TRO COUNTY</td>\n",
              "      <td>Natrona County</td>\n",
              "      <td>23.0</td>\n",
              "      <td>white</td>\n",
              "      <td>male</td>\n",
              "      <td>791f232f61</td>\n",
              "      <td>B</td>\n",
              "      <td>vehicular</td>\n",
              "      <td>SEAT BELT: DRIVER</td>\n",
              "    </tr>\n",
              "    <tr>\n",
              "      <th>1</th>\n",
              "      <td>2</td>\n",
              "      <td>2011-01-01</td>\n",
              "      <td>01:00:00</td>\n",
              "      <td>TRO COUNTY</td>\n",
              "      <td>Natrona County</td>\n",
              "      <td>24.0</td>\n",
              "      <td>white</td>\n",
              "      <td>male</td>\n",
              "      <td>791f232f61</td>\n",
              "      <td>B</td>\n",
              "      <td>vehicular</td>\n",
              "      <td>SEAT BELT: PASSENGER</td>\n",
              "    </tr>\n",
              "    <tr>\n",
              "      <th>2</th>\n",
              "      <td>3</td>\n",
              "      <td>2011-01-01</td>\n",
              "      <td>01:29:00</td>\n",
              "      <td>2 WY 22|2 WY 22, TETON COUNTY</td>\n",
              "      <td>Teton County</td>\n",
              "      <td>45.0</td>\n",
              "      <td>white</td>\n",
              "      <td>male</td>\n",
              "      <td>f369634e28</td>\n",
              "      <td>K</td>\n",
              "      <td>vehicular</td>\n",
              "      <td>DUI: ALCOHOL 0.08% OR MORE|DRIVE VEH W/I SINGL...</td>\n",
              "    </tr>\n",
              "    <tr>\n",
              "      <th>3</th>\n",
              "      <td>4</td>\n",
              "      <td>2011-01-01</td>\n",
              "      <td>03:00:00</td>\n",
              "      <td>111 I 80 E, SWEETWATER COUNTY</td>\n",
              "      <td>Sweetwater County</td>\n",
              "      <td>49.0</td>\n",
              "      <td>white</td>\n",
              "      <td>male</td>\n",
              "      <td>decf9509bb</td>\n",
              "      <td>E</td>\n",
              "      <td>vehicular</td>\n",
              "      <td>FAIL TO REPORT OVER $1,000 PROP DAMAGE OR INJURY</td>\n",
              "    </tr>\n",
              "    <tr>\n",
              "      <th>4</th>\n",
              "      <td>5</td>\n",
              "      <td>2011-01-01</td>\n",
              "      <td>04:15:00</td>\n",
              "      <td>10 26|10 26|10 26, PLATTE COUNTY</td>\n",
              "      <td>Platte County</td>\n",
              "      <td>36.0</td>\n",
              "      <td>hispanic</td>\n",
              "      <td>male</td>\n",
              "      <td>3f486394a7</td>\n",
              "      <td>F</td>\n",
              "      <td>vehicular</td>\n",
              "      <td>PEDESTRIAN UND INFLU OF ALCOHOL OR CONTR SUBST...</td>\n",
              "    </tr>\n",
              "    <tr>\n",
              "      <th>5</th>\n",
              "      <td>6</td>\n",
              "      <td>2011-01-01</td>\n",
              "      <td>05:55:00</td>\n",
              "      <td>3 22, TETON COUNTY</td>\n",
              "      <td>Teton County</td>\n",
              "      <td>33.0</td>\n",
              "      <td>white</td>\n",
              "      <td>male</td>\n",
              "      <td>eaeaf19018</td>\n",
              "      <td>K</td>\n",
              "      <td>vehicular</td>\n",
              "      <td>DRIVE WHILE LIC CANCELLED, SUSPENDED, OR REVOKED</td>\n",
              "    </tr>\n",
              "    <tr>\n",
              "      <th>6</th>\n",
              "      <td>7</td>\n",
              "      <td>2011-01-01</td>\n",
              "      <td>06:20:00</td>\n",
              "      <td>SUBLETTE COUNTY</td>\n",
              "      <td>Sublette County</td>\n",
              "      <td>54.0</td>\n",
              "      <td>white</td>\n",
              "      <td>male</td>\n",
              "      <td>58747fe63d</td>\n",
              "      <td>T</td>\n",
              "      <td>vehicular</td>\n",
              "      <td>EXCEED POSTED SPEED IN SUPERINTENDENT ZONE</td>\n",
              "    </tr>\n",
              "    <tr>\n",
              "      <th>7</th>\n",
              "      <td>8</td>\n",
              "      <td>2011-01-01</td>\n",
              "      <td>07:30:00</td>\n",
              "      <td>8 I 25 N, LARAMIE COUNTY</td>\n",
              "      <td>Laramie County</td>\n",
              "      <td>48.0</td>\n",
              "      <td>white</td>\n",
              "      <td>male</td>\n",
              "      <td>a4ceae6655</td>\n",
              "      <td>A</td>\n",
              "      <td>vehicular</td>\n",
              "      <td>EXCEED POSTED SPEED IN SUPERINTENDENT ZONE</td>\n",
              "    </tr>\n",
              "    <tr>\n",
              "      <th>8</th>\n",
              "      <td>9</td>\n",
              "      <td>2011-01-01</td>\n",
              "      <td>08:00:00</td>\n",
              "      <td>95 191, SUBLETTE COUNTY</td>\n",
              "      <td>Sublette County</td>\n",
              "      <td>38.0</td>\n",
              "      <td>white</td>\n",
              "      <td>male</td>\n",
              "      <td>eb37cf8bfd</td>\n",
              "      <td>T</td>\n",
              "      <td>vehicular</td>\n",
              "      <td>COMPULSORY AUTO INSURANCE</td>\n",
              "    </tr>\n",
              "    <tr>\n",
              "      <th>9</th>\n",
              "      <td>10</td>\n",
              "      <td>2011-01-01</td>\n",
              "      <td>08:15:00</td>\n",
              "      <td>31 114, PARK COUNTY</td>\n",
              "      <td>Park County</td>\n",
              "      <td>28.0</td>\n",
              "      <td>white</td>\n",
              "      <td>male</td>\n",
              "      <td>4a74d2fd1f</td>\n",
              "      <td>N</td>\n",
              "      <td>vehicular</td>\n",
              "      <td>EXCEED 65 MPH ON PRMRY/SCNDRY HWY (SPEED)</td>\n",
              "    </tr>\n",
              "  </tbody>\n",
              "</table>\n",
              "</div>\n",
              "      <button class=\"colab-df-convert\" onclick=\"convertToInteractive('df-d66cccbd-7377-4a0b-98a5-7c9e6ca45753')\"\n",
              "              title=\"Convert this dataframe to an interactive table.\"\n",
              "              style=\"display:none;\">\n",
              "        \n",
              "  <svg xmlns=\"http://www.w3.org/2000/svg\" height=\"24px\"viewBox=\"0 0 24 24\"\n",
              "       width=\"24px\">\n",
              "    <path d=\"M0 0h24v24H0V0z\" fill=\"none\"/>\n",
              "    <path d=\"M18.56 5.44l.94 2.06.94-2.06 2.06-.94-2.06-.94-.94-2.06-.94 2.06-2.06.94zm-11 1L8.5 8.5l.94-2.06 2.06-.94-2.06-.94L8.5 2.5l-.94 2.06-2.06.94zm10 10l.94 2.06.94-2.06 2.06-.94-2.06-.94-.94-2.06-.94 2.06-2.06.94z\"/><path d=\"M17.41 7.96l-1.37-1.37c-.4-.4-.92-.59-1.43-.59-.52 0-1.04.2-1.43.59L10.3 9.45l-7.72 7.72c-.78.78-.78 2.05 0 2.83L4 21.41c.39.39.9.59 1.41.59.51 0 1.02-.2 1.41-.59l7.78-7.78 2.81-2.81c.8-.78.8-2.07 0-2.86zM5.41 20L4 18.59l7.72-7.72 1.47 1.35L5.41 20z\"/>\n",
              "  </svg>\n",
              "      </button>\n",
              "      \n",
              "  <style>\n",
              "    .colab-df-container {\n",
              "      display:flex;\n",
              "      flex-wrap:wrap;\n",
              "      gap: 12px;\n",
              "    }\n",
              "\n",
              "    .colab-df-convert {\n",
              "      background-color: #E8F0FE;\n",
              "      border: none;\n",
              "      border-radius: 50%;\n",
              "      cursor: pointer;\n",
              "      display: none;\n",
              "      fill: #1967D2;\n",
              "      height: 32px;\n",
              "      padding: 0 0 0 0;\n",
              "      width: 32px;\n",
              "    }\n",
              "\n",
              "    .colab-df-convert:hover {\n",
              "      background-color: #E2EBFA;\n",
              "      box-shadow: 0px 1px 2px rgba(60, 64, 67, 0.3), 0px 1px 3px 1px rgba(60, 64, 67, 0.15);\n",
              "      fill: #174EA6;\n",
              "    }\n",
              "\n",
              "    [theme=dark] .colab-df-convert {\n",
              "      background-color: #3B4455;\n",
              "      fill: #D2E3FC;\n",
              "    }\n",
              "\n",
              "    [theme=dark] .colab-df-convert:hover {\n",
              "      background-color: #434B5C;\n",
              "      box-shadow: 0px 1px 3px 1px rgba(0, 0, 0, 0.15);\n",
              "      filter: drop-shadow(0px 1px 2px rgba(0, 0, 0, 0.3));\n",
              "      fill: #FFFFFF;\n",
              "    }\n",
              "  </style>\n",
              "\n",
              "      <script>\n",
              "        const buttonEl =\n",
              "          document.querySelector('#df-d66cccbd-7377-4a0b-98a5-7c9e6ca45753 button.colab-df-convert');\n",
              "        buttonEl.style.display =\n",
              "          google.colab.kernel.accessAllowed ? 'block' : 'none';\n",
              "\n",
              "        async function convertToInteractive(key) {\n",
              "          const element = document.querySelector('#df-d66cccbd-7377-4a0b-98a5-7c9e6ca45753');\n",
              "          const dataTable =\n",
              "            await google.colab.kernel.invokeFunction('convertToInteractive',\n",
              "                                                     [key], {});\n",
              "          if (!dataTable) return;\n",
              "\n",
              "          const docLinkHtml = 'Like what you see? Visit the ' +\n",
              "            '<a target=\"_blank\" href=https://colab.research.google.com/notebooks/data_table.ipynb>data table notebook</a>'\n",
              "            + ' to learn more about interactive tables.';\n",
              "          element.innerHTML = '';\n",
              "          dataTable['output_type'] = 'display_data';\n",
              "          await google.colab.output.renderOutput(dataTable, element);\n",
              "          const docLink = document.createElement('div');\n",
              "          docLink.innerHTML = docLinkHtml;\n",
              "          element.appendChild(docLink);\n",
              "        }\n",
              "      </script>\n",
              "    </div>\n",
              "  </div>\n",
              "  "
            ],
            "text/plain": [
              "   raw_row_number  ...                                          violation\n",
              "0               1  ...                                  SEAT BELT: DRIVER\n",
              "1               2  ...                               SEAT BELT: PASSENGER\n",
              "2               3  ...  DUI: ALCOHOL 0.08% OR MORE|DRIVE VEH W/I SINGL...\n",
              "3               4  ...   FAIL TO REPORT OVER $1,000 PROP DAMAGE OR INJURY\n",
              "4               5  ...  PEDESTRIAN UND INFLU OF ALCOHOL OR CONTR SUBST...\n",
              "5               6  ...   DRIVE WHILE LIC CANCELLED, SUSPENDED, OR REVOKED\n",
              "6               7  ...         EXCEED POSTED SPEED IN SUPERINTENDENT ZONE\n",
              "7               8  ...         EXCEED POSTED SPEED IN SUPERINTENDENT ZONE\n",
              "8               9  ...                          COMPULSORY AUTO INSURANCE\n",
              "9              10  ...          EXCEED 65 MPH ON PRMRY/SCNDRY HWY (SPEED)\n",
              "\n",
              "[10 rows x 12 columns]"
            ]
          },
          "metadata": {},
          "execution_count": 2
        }
      ]
    },
    {
      "cell_type": "markdown",
      "source": [
        "# Summary of missing values"
      ],
      "metadata": {
        "id": "roETt17zuyK5"
      }
    },
    {
      "cell_type": "code",
      "source": [
        "df.shape"
      ],
      "metadata": {
        "colab": {
          "base_uri": "https://localhost:8080/"
        },
        "id": "N2dA-Nwxu195",
        "outputId": "f351dedf-0df0-4e55-e917-177f509df8cc"
      },
      "execution_count": 3,
      "outputs": [
        {
          "output_type": "execute_result",
          "data": {
            "text/plain": [
              "(155090, 12)"
            ]
          },
          "metadata": {},
          "execution_count": 3
        }
      ]
    },
    {
      "cell_type": "code",
      "source": [
        "df.isnull().sum()"
      ],
      "metadata": {
        "colab": {
          "base_uri": "https://localhost:8080/"
        },
        "id": "-wqTHSAlu92m",
        "outputId": "968c70db-0367-4be9-d25c-2bf653b9e90f"
      },
      "execution_count": 4,
      "outputs": [
        {
          "output_type": "execute_result",
          "data": {
            "text/plain": [
              "raw_row_number        0\n",
              "date                356\n",
              "time                 19\n",
              "location            997\n",
              "county_name        2023\n",
              "subject_age         630\n",
              "subject_race        465\n",
              "subject_sex        1167\n",
              "officer_id_hash       1\n",
              "department_id      7922\n",
              "type                  1\n",
              "violation             2\n",
              "dtype: int64"
            ]
          },
          "metadata": {},
          "execution_count": 4
        }
      ]
    },
    {
      "cell_type": "markdown",
      "source": [
        "# Drop county name column"
      ],
      "metadata": {
        "id": "n-tOzBhRvDau"
      }
    },
    {
      "cell_type": "code",
      "source": [
        "df.drop('county_name', axis='columns', inplace=True)\n",
        "df.shape"
      ],
      "metadata": {
        "colab": {
          "base_uri": "https://localhost:8080/"
        },
        "id": "YC5n-qGxvcfG",
        "outputId": "49d2711b-76c8-46bb-e8aa-1e5bb9667e81"
      },
      "execution_count": 5,
      "outputs": [
        {
          "output_type": "execute_result",
          "data": {
            "text/plain": [
              "(155090, 11)"
            ]
          },
          "metadata": {},
          "execution_count": 5
        }
      ]
    },
    {
      "cell_type": "code",
      "source": [
        "df.head(5)"
      ],
      "metadata": {
        "colab": {
          "base_uri": "https://localhost:8080/",
          "height": 441
        },
        "id": "KjY1kLMUvtgL",
        "outputId": "341d8cd1-7da6-4e76-c076-9444a93ca18c"
      },
      "execution_count": 6,
      "outputs": [
        {
          "output_type": "execute_result",
          "data": {
            "text/html": [
              "\n",
              "  <div id=\"df-7d6f06f1-1e46-493e-85b6-c96a0610e1e8\">\n",
              "    <div class=\"colab-df-container\">\n",
              "      <div>\n",
              "<style scoped>\n",
              "    .dataframe tbody tr th:only-of-type {\n",
              "        vertical-align: middle;\n",
              "    }\n",
              "\n",
              "    .dataframe tbody tr th {\n",
              "        vertical-align: top;\n",
              "    }\n",
              "\n",
              "    .dataframe thead th {\n",
              "        text-align: right;\n",
              "    }\n",
              "</style>\n",
              "<table border=\"1\" class=\"dataframe\">\n",
              "  <thead>\n",
              "    <tr style=\"text-align: right;\">\n",
              "      <th></th>\n",
              "      <th>raw_row_number</th>\n",
              "      <th>date</th>\n",
              "      <th>time</th>\n",
              "      <th>location</th>\n",
              "      <th>subject_age</th>\n",
              "      <th>subject_race</th>\n",
              "      <th>subject_sex</th>\n",
              "      <th>officer_id_hash</th>\n",
              "      <th>department_id</th>\n",
              "      <th>type</th>\n",
              "      <th>violation</th>\n",
              "    </tr>\n",
              "  </thead>\n",
              "  <tbody>\n",
              "    <tr>\n",
              "      <th>0</th>\n",
              "      <td>1</td>\n",
              "      <td>2011-01-01</td>\n",
              "      <td>01:00:00</td>\n",
              "      <td>TRO COUNTY</td>\n",
              "      <td>23.0</td>\n",
              "      <td>white</td>\n",
              "      <td>male</td>\n",
              "      <td>791f232f61</td>\n",
              "      <td>B</td>\n",
              "      <td>vehicular</td>\n",
              "      <td>SEAT BELT: DRIVER</td>\n",
              "    </tr>\n",
              "    <tr>\n",
              "      <th>1</th>\n",
              "      <td>2</td>\n",
              "      <td>2011-01-01</td>\n",
              "      <td>01:00:00</td>\n",
              "      <td>TRO COUNTY</td>\n",
              "      <td>24.0</td>\n",
              "      <td>white</td>\n",
              "      <td>male</td>\n",
              "      <td>791f232f61</td>\n",
              "      <td>B</td>\n",
              "      <td>vehicular</td>\n",
              "      <td>SEAT BELT: PASSENGER</td>\n",
              "    </tr>\n",
              "    <tr>\n",
              "      <th>2</th>\n",
              "      <td>3</td>\n",
              "      <td>2011-01-01</td>\n",
              "      <td>01:29:00</td>\n",
              "      <td>2 WY 22|2 WY 22, TETON COUNTY</td>\n",
              "      <td>45.0</td>\n",
              "      <td>white</td>\n",
              "      <td>male</td>\n",
              "      <td>f369634e28</td>\n",
              "      <td>K</td>\n",
              "      <td>vehicular</td>\n",
              "      <td>DUI: ALCOHOL 0.08% OR MORE|DRIVE VEH W/I SINGL...</td>\n",
              "    </tr>\n",
              "    <tr>\n",
              "      <th>3</th>\n",
              "      <td>4</td>\n",
              "      <td>2011-01-01</td>\n",
              "      <td>03:00:00</td>\n",
              "      <td>111 I 80 E, SWEETWATER COUNTY</td>\n",
              "      <td>49.0</td>\n",
              "      <td>white</td>\n",
              "      <td>male</td>\n",
              "      <td>decf9509bb</td>\n",
              "      <td>E</td>\n",
              "      <td>vehicular</td>\n",
              "      <td>FAIL TO REPORT OVER $1,000 PROP DAMAGE OR INJURY</td>\n",
              "    </tr>\n",
              "    <tr>\n",
              "      <th>4</th>\n",
              "      <td>5</td>\n",
              "      <td>2011-01-01</td>\n",
              "      <td>04:15:00</td>\n",
              "      <td>10 26|10 26|10 26, PLATTE COUNTY</td>\n",
              "      <td>36.0</td>\n",
              "      <td>hispanic</td>\n",
              "      <td>male</td>\n",
              "      <td>3f486394a7</td>\n",
              "      <td>F</td>\n",
              "      <td>vehicular</td>\n",
              "      <td>PEDESTRIAN UND INFLU OF ALCOHOL OR CONTR SUBST...</td>\n",
              "    </tr>\n",
              "  </tbody>\n",
              "</table>\n",
              "</div>\n",
              "      <button class=\"colab-df-convert\" onclick=\"convertToInteractive('df-7d6f06f1-1e46-493e-85b6-c96a0610e1e8')\"\n",
              "              title=\"Convert this dataframe to an interactive table.\"\n",
              "              style=\"display:none;\">\n",
              "        \n",
              "  <svg xmlns=\"http://www.w3.org/2000/svg\" height=\"24px\"viewBox=\"0 0 24 24\"\n",
              "       width=\"24px\">\n",
              "    <path d=\"M0 0h24v24H0V0z\" fill=\"none\"/>\n",
              "    <path d=\"M18.56 5.44l.94 2.06.94-2.06 2.06-.94-2.06-.94-.94-2.06-.94 2.06-2.06.94zm-11 1L8.5 8.5l.94-2.06 2.06-.94-2.06-.94L8.5 2.5l-.94 2.06-2.06.94zm10 10l.94 2.06.94-2.06 2.06-.94-2.06-.94-.94-2.06-.94 2.06-2.06.94z\"/><path d=\"M17.41 7.96l-1.37-1.37c-.4-.4-.92-.59-1.43-.59-.52 0-1.04.2-1.43.59L10.3 9.45l-7.72 7.72c-.78.78-.78 2.05 0 2.83L4 21.41c.39.39.9.59 1.41.59.51 0 1.02-.2 1.41-.59l7.78-7.78 2.81-2.81c.8-.78.8-2.07 0-2.86zM5.41 20L4 18.59l7.72-7.72 1.47 1.35L5.41 20z\"/>\n",
              "  </svg>\n",
              "      </button>\n",
              "      \n",
              "  <style>\n",
              "    .colab-df-container {\n",
              "      display:flex;\n",
              "      flex-wrap:wrap;\n",
              "      gap: 12px;\n",
              "    }\n",
              "\n",
              "    .colab-df-convert {\n",
              "      background-color: #E8F0FE;\n",
              "      border: none;\n",
              "      border-radius: 50%;\n",
              "      cursor: pointer;\n",
              "      display: none;\n",
              "      fill: #1967D2;\n",
              "      height: 32px;\n",
              "      padding: 0 0 0 0;\n",
              "      width: 32px;\n",
              "    }\n",
              "\n",
              "    .colab-df-convert:hover {\n",
              "      background-color: #E2EBFA;\n",
              "      box-shadow: 0px 1px 2px rgba(60, 64, 67, 0.3), 0px 1px 3px 1px rgba(60, 64, 67, 0.15);\n",
              "      fill: #174EA6;\n",
              "    }\n",
              "\n",
              "    [theme=dark] .colab-df-convert {\n",
              "      background-color: #3B4455;\n",
              "      fill: #D2E3FC;\n",
              "    }\n",
              "\n",
              "    [theme=dark] .colab-df-convert:hover {\n",
              "      background-color: #434B5C;\n",
              "      box-shadow: 0px 1px 3px 1px rgba(0, 0, 0, 0.15);\n",
              "      filter: drop-shadow(0px 1px 2px rgba(0, 0, 0, 0.3));\n",
              "      fill: #FFFFFF;\n",
              "    }\n",
              "  </style>\n",
              "\n",
              "      <script>\n",
              "        const buttonEl =\n",
              "          document.querySelector('#df-7d6f06f1-1e46-493e-85b6-c96a0610e1e8 button.colab-df-convert');\n",
              "        buttonEl.style.display =\n",
              "          google.colab.kernel.accessAllowed ? 'block' : 'none';\n",
              "\n",
              "        async function convertToInteractive(key) {\n",
              "          const element = document.querySelector('#df-7d6f06f1-1e46-493e-85b6-c96a0610e1e8');\n",
              "          const dataTable =\n",
              "            await google.colab.kernel.invokeFunction('convertToInteractive',\n",
              "                                                     [key], {});\n",
              "          if (!dataTable) return;\n",
              "\n",
              "          const docLinkHtml = 'Like what you see? Visit the ' +\n",
              "            '<a target=\"_blank\" href=https://colab.research.google.com/notebooks/data_table.ipynb>data table notebook</a>'\n",
              "            + ' to learn more about interactive tables.';\n",
              "          element.innerHTML = '';\n",
              "          dataTable['output_type'] = 'display_data';\n",
              "          await google.colab.output.renderOutput(dataTable, element);\n",
              "          const docLink = document.createElement('div');\n",
              "          docLink.innerHTML = docLinkHtml;\n",
              "          element.appendChild(docLink);\n",
              "        }\n",
              "      </script>\n",
              "    </div>\n",
              "  </div>\n",
              "  "
            ],
            "text/plain": [
              "   raw_row_number  ...                                          violation\n",
              "0               1  ...                                  SEAT BELT: DRIVER\n",
              "1               2  ...                               SEAT BELT: PASSENGER\n",
              "2               3  ...  DUI: ALCOHOL 0.08% OR MORE|DRIVE VEH W/I SINGL...\n",
              "3               4  ...   FAIL TO REPORT OVER $1,000 PROP DAMAGE OR INJURY\n",
              "4               5  ...  PEDESTRIAN UND INFLU OF ALCOHOL OR CONTR SUBST...\n",
              "\n",
              "[5 rows x 11 columns]"
            ]
          },
          "metadata": {},
          "execution_count": 6
        }
      ]
    },
    {
      "cell_type": "markdown",
      "source": [
        "# Drop rows that have missing values"
      ],
      "metadata": {
        "id": "k7uPn8dnvzSQ"
      }
    },
    {
      "cell_type": "code",
      "source": [
        "df.shape"
      ],
      "metadata": {
        "colab": {
          "base_uri": "https://localhost:8080/"
        },
        "id": "0HuAKMsEwGXj",
        "outputId": "0f6e2b54-ffa7-40a8-fe77-f8752f574dbf"
      },
      "execution_count": 7,
      "outputs": [
        {
          "output_type": "execute_result",
          "data": {
            "text/plain": [
              "(155090, 11)"
            ]
          },
          "metadata": {},
          "execution_count": 7
        }
      ]
    },
    {
      "cell_type": "code",
      "source": [
        "df.dropna(axis=0, how='any', inplace=True)\n",
        "df.shape"
      ],
      "metadata": {
        "colab": {
          "base_uri": "https://localhost:8080/"
        },
        "id": "xhG--AHFv96V",
        "outputId": "04b2fc33-4d13-4413-d876-833b5cc09d5a"
      },
      "execution_count": 8,
      "outputs": [
        {
          "output_type": "execute_result",
          "data": {
            "text/plain": [
              "(144885, 11)"
            ]
          },
          "metadata": {},
          "execution_count": 8
        }
      ]
    },
    {
      "cell_type": "markdown",
      "source": [
        "# Show data types of columns's data"
      ],
      "metadata": {
        "id": "vQH-u-DJwMK8"
      }
    },
    {
      "cell_type": "code",
      "source": [
        "df.dtypes"
      ],
      "metadata": {
        "colab": {
          "base_uri": "https://localhost:8080/"
        },
        "id": "2eOMVKuuwUfa",
        "outputId": "34602c43-333b-4f5d-f139-01c071ae5c09"
      },
      "execution_count": 9,
      "outputs": [
        {
          "output_type": "execute_result",
          "data": {
            "text/plain": [
              "raw_row_number       int64\n",
              "date                object\n",
              "time                object\n",
              "location            object\n",
              "subject_age        float64\n",
              "subject_race        object\n",
              "subject_sex         object\n",
              "officer_id_hash     object\n",
              "department_id       object\n",
              "type                object\n",
              "violation           object\n",
              "dtype: object"
            ]
          },
          "metadata": {},
          "execution_count": 9
        }
      ]
    },
    {
      "cell_type": "markdown",
      "source": [
        "# Show summary statistics of the data"
      ],
      "metadata": {
        "id": "98wExhbHwbyl"
      }
    },
    {
      "cell_type": "code",
      "source": [
        "df.describe()"
      ],
      "metadata": {
        "colab": {
          "base_uri": "https://localhost:8080/",
          "height": 300
        },
        "id": "SbW6we7mwn3S",
        "outputId": "6a70555d-9580-4c4e-d7e5-97a4503b161e"
      },
      "execution_count": 10,
      "outputs": [
        {
          "output_type": "execute_result",
          "data": {
            "text/html": [
              "\n",
              "  <div id=\"df-cc4ce692-5587-494c-b26b-3560426dff55\">\n",
              "    <div class=\"colab-df-container\">\n",
              "      <div>\n",
              "<style scoped>\n",
              "    .dataframe tbody tr th:only-of-type {\n",
              "        vertical-align: middle;\n",
              "    }\n",
              "\n",
              "    .dataframe tbody tr th {\n",
              "        vertical-align: top;\n",
              "    }\n",
              "\n",
              "    .dataframe thead th {\n",
              "        text-align: right;\n",
              "    }\n",
              "</style>\n",
              "<table border=\"1\" class=\"dataframe\">\n",
              "  <thead>\n",
              "    <tr style=\"text-align: right;\">\n",
              "      <th></th>\n",
              "      <th>raw_row_number</th>\n",
              "      <th>subject_age</th>\n",
              "    </tr>\n",
              "  </thead>\n",
              "  <tbody>\n",
              "    <tr>\n",
              "      <th>count</th>\n",
              "      <td>144885.000000</td>\n",
              "      <td>144885.000000</td>\n",
              "    </tr>\n",
              "    <tr>\n",
              "      <th>mean</th>\n",
              "      <td>75692.097546</td>\n",
              "      <td>38.715519</td>\n",
              "    </tr>\n",
              "    <tr>\n",
              "      <th>std</th>\n",
              "      <td>44755.831529</td>\n",
              "      <td>14.483104</td>\n",
              "    </tr>\n",
              "    <tr>\n",
              "      <th>min</th>\n",
              "      <td>1.000000</td>\n",
              "      <td>10.000000</td>\n",
              "    </tr>\n",
              "    <tr>\n",
              "      <th>25%</th>\n",
              "      <td>36715.000000</td>\n",
              "      <td>26.000000</td>\n",
              "    </tr>\n",
              "    <tr>\n",
              "      <th>50%</th>\n",
              "      <td>74466.000000</td>\n",
              "      <td>37.000000</td>\n",
              "    </tr>\n",
              "    <tr>\n",
              "      <th>75%</th>\n",
              "      <td>114222.000000</td>\n",
              "      <td>50.000000</td>\n",
              "    </tr>\n",
              "    <tr>\n",
              "      <th>max</th>\n",
              "      <td>155089.000000</td>\n",
              "      <td>99.000000</td>\n",
              "    </tr>\n",
              "  </tbody>\n",
              "</table>\n",
              "</div>\n",
              "      <button class=\"colab-df-convert\" onclick=\"convertToInteractive('df-cc4ce692-5587-494c-b26b-3560426dff55')\"\n",
              "              title=\"Convert this dataframe to an interactive table.\"\n",
              "              style=\"display:none;\">\n",
              "        \n",
              "  <svg xmlns=\"http://www.w3.org/2000/svg\" height=\"24px\"viewBox=\"0 0 24 24\"\n",
              "       width=\"24px\">\n",
              "    <path d=\"M0 0h24v24H0V0z\" fill=\"none\"/>\n",
              "    <path d=\"M18.56 5.44l.94 2.06.94-2.06 2.06-.94-2.06-.94-.94-2.06-.94 2.06-2.06.94zm-11 1L8.5 8.5l.94-2.06 2.06-.94-2.06-.94L8.5 2.5l-.94 2.06-2.06.94zm10 10l.94 2.06.94-2.06 2.06-.94-2.06-.94-.94-2.06-.94 2.06-2.06.94z\"/><path d=\"M17.41 7.96l-1.37-1.37c-.4-.4-.92-.59-1.43-.59-.52 0-1.04.2-1.43.59L10.3 9.45l-7.72 7.72c-.78.78-.78 2.05 0 2.83L4 21.41c.39.39.9.59 1.41.59.51 0 1.02-.2 1.41-.59l7.78-7.78 2.81-2.81c.8-.78.8-2.07 0-2.86zM5.41 20L4 18.59l7.72-7.72 1.47 1.35L5.41 20z\"/>\n",
              "  </svg>\n",
              "      </button>\n",
              "      \n",
              "  <style>\n",
              "    .colab-df-container {\n",
              "      display:flex;\n",
              "      flex-wrap:wrap;\n",
              "      gap: 12px;\n",
              "    }\n",
              "\n",
              "    .colab-df-convert {\n",
              "      background-color: #E8F0FE;\n",
              "      border: none;\n",
              "      border-radius: 50%;\n",
              "      cursor: pointer;\n",
              "      display: none;\n",
              "      fill: #1967D2;\n",
              "      height: 32px;\n",
              "      padding: 0 0 0 0;\n",
              "      width: 32px;\n",
              "    }\n",
              "\n",
              "    .colab-df-convert:hover {\n",
              "      background-color: #E2EBFA;\n",
              "      box-shadow: 0px 1px 2px rgba(60, 64, 67, 0.3), 0px 1px 3px 1px rgba(60, 64, 67, 0.15);\n",
              "      fill: #174EA6;\n",
              "    }\n",
              "\n",
              "    [theme=dark] .colab-df-convert {\n",
              "      background-color: #3B4455;\n",
              "      fill: #D2E3FC;\n",
              "    }\n",
              "\n",
              "    [theme=dark] .colab-df-convert:hover {\n",
              "      background-color: #434B5C;\n",
              "      box-shadow: 0px 1px 3px 1px rgba(0, 0, 0, 0.15);\n",
              "      filter: drop-shadow(0px 1px 2px rgba(0, 0, 0, 0.3));\n",
              "      fill: #FFFFFF;\n",
              "    }\n",
              "  </style>\n",
              "\n",
              "      <script>\n",
              "        const buttonEl =\n",
              "          document.querySelector('#df-cc4ce692-5587-494c-b26b-3560426dff55 button.colab-df-convert');\n",
              "        buttonEl.style.display =\n",
              "          google.colab.kernel.accessAllowed ? 'block' : 'none';\n",
              "\n",
              "        async function convertToInteractive(key) {\n",
              "          const element = document.querySelector('#df-cc4ce692-5587-494c-b26b-3560426dff55');\n",
              "          const dataTable =\n",
              "            await google.colab.kernel.invokeFunction('convertToInteractive',\n",
              "                                                     [key], {});\n",
              "          if (!dataTable) return;\n",
              "\n",
              "          const docLinkHtml = 'Like what you see? Visit the ' +\n",
              "            '<a target=\"_blank\" href=https://colab.research.google.com/notebooks/data_table.ipynb>data table notebook</a>'\n",
              "            + ' to learn more about interactive tables.';\n",
              "          element.innerHTML = '';\n",
              "          dataTable['output_type'] = 'display_data';\n",
              "          await google.colab.output.renderOutput(dataTable, element);\n",
              "          const docLink = document.createElement('div');\n",
              "          docLink.innerHTML = docLinkHtml;\n",
              "          element.appendChild(docLink);\n",
              "        }\n",
              "      </script>\n",
              "    </div>\n",
              "  </div>\n",
              "  "
            ],
            "text/plain": [
              "       raw_row_number    subject_age\n",
              "count   144885.000000  144885.000000\n",
              "mean     75692.097546      38.715519\n",
              "std      44755.831529      14.483104\n",
              "min          1.000000      10.000000\n",
              "25%      36715.000000      26.000000\n",
              "50%      74466.000000      37.000000\n",
              "75%     114222.000000      50.000000\n",
              "max     155089.000000      99.000000"
            ]
          },
          "metadata": {},
          "execution_count": 10
        }
      ]
    },
    {
      "cell_type": "markdown",
      "source": [
        "# **Exercise 2**"
      ],
      "metadata": {
        "id": "-W-iIkaxw9Oy"
      }
    },
    {
      "cell_type": "markdown",
      "source": [
        "# Combine stop_date and stop_time into one column date_and_time"
      ],
      "metadata": {
        "id": "De5qnFGYxCQG"
      }
    },
    {
      "cell_type": "code",
      "source": [
        "df.date.str.replace('/','-')\n",
        "combined_col = df.date.str.cat(df.time, sep=' ')\n",
        "combined_col"
      ],
      "metadata": {
        "colab": {
          "base_uri": "https://localhost:8080/"
        },
        "id": "4XtZsmLuxLLC",
        "outputId": "c82022fa-c591-46ec-8596-d43c43a75eca"
      },
      "execution_count": 11,
      "outputs": [
        {
          "output_type": "execute_result",
          "data": {
            "text/plain": [
              "0         2011-01-01 01:00:00\n",
              "1         2011-01-01 01:00:00\n",
              "2         2011-01-01 01:29:00\n",
              "3         2011-01-01 03:00:00\n",
              "4         2011-01-01 04:15:00\n",
              "                 ...         \n",
              "155083    2012-09-23 20:05:00\n",
              "155084    2012-09-23 20:08:00\n",
              "155085    2012-09-23 20:20:00\n",
              "155086    2012-09-23 20:50:00\n",
              "155088    2012-09-23 21:20:00\n",
              "Name: date, Length: 144885, dtype: object"
            ]
          },
          "metadata": {},
          "execution_count": 11
        }
      ]
    },
    {
      "cell_type": "code",
      "source": [
        "df['date_and_time'] = combined_col\n",
        "df.dtypes"
      ],
      "metadata": {
        "colab": {
          "base_uri": "https://localhost:8080/"
        },
        "id": "2DjhLI1wxeSR",
        "outputId": "bac9f861-ef39-442a-a7fc-21b0c04ed76d"
      },
      "execution_count": 12,
      "outputs": [
        {
          "output_type": "execute_result",
          "data": {
            "text/plain": [
              "raw_row_number       int64\n",
              "date                object\n",
              "time                object\n",
              "location            object\n",
              "subject_age        float64\n",
              "subject_race        object\n",
              "subject_sex         object\n",
              "officer_id_hash     object\n",
              "department_id       object\n",
              "type                object\n",
              "violation           object\n",
              "date_and_time       object\n",
              "dtype: object"
            ]
          },
          "metadata": {},
          "execution_count": 12
        }
      ]
    },
    {
      "cell_type": "markdown",
      "source": [
        "# Drop columns date and time"
      ],
      "metadata": {
        "id": "rKDySNk-xrTr"
      }
    },
    {
      "cell_type": "code",
      "source": [
        "df.shape"
      ],
      "metadata": {
        "colab": {
          "base_uri": "https://localhost:8080/"
        },
        "id": "0fQssKaOyIRj",
        "outputId": "d250a896-3c7b-435c-ea36-e82024acdd9b"
      },
      "execution_count": 13,
      "outputs": [
        {
          "output_type": "execute_result",
          "data": {
            "text/plain": [
              "(144885, 12)"
            ]
          },
          "metadata": {},
          "execution_count": 13
        }
      ]
    },
    {
      "cell_type": "code",
      "source": [
        "df.drop(columns=['date', 'time'], inplace=True)\n",
        "df.shape"
      ],
      "metadata": {
        "colab": {
          "base_uri": "https://localhost:8080/"
        },
        "id": "fRHN9vYcxySo",
        "outputId": "1170a9b4-0721-403f-a222-35302044a567"
      },
      "execution_count": 14,
      "outputs": [
        {
          "output_type": "execute_result",
          "data": {
            "text/plain": [
              "(144885, 10)"
            ]
          },
          "metadata": {},
          "execution_count": 14
        }
      ]
    },
    {
      "cell_type": "markdown",
      "source": [
        "# Convert the column date_and_time into datetime format"
      ],
      "metadata": {
        "id": "vEcUp4m3yLFG"
      }
    },
    {
      "cell_type": "code",
      "source": [
        "df['date_and_time']=pd.to_datetime(df['date_and_time'])\n",
        "df.dtypes"
      ],
      "metadata": {
        "colab": {
          "base_uri": "https://localhost:8080/"
        },
        "id": "T7NIqNf5yPaK",
        "outputId": "95f9bcb2-7f59-4a61-8be4-6ddac7256fa2"
      },
      "execution_count": 15,
      "outputs": [
        {
          "output_type": "execute_result",
          "data": {
            "text/plain": [
              "raw_row_number              int64\n",
              "location                   object\n",
              "subject_age               float64\n",
              "subject_race               object\n",
              "subject_sex                object\n",
              "officer_id_hash            object\n",
              "department_id              object\n",
              "type                       object\n",
              "violation                  object\n",
              "date_and_time      datetime64[ns]\n",
              "dtype: object"
            ]
          },
          "metadata": {},
          "execution_count": 15
        }
      ]
    },
    {
      "cell_type": "markdown",
      "source": [
        "# Set the index of dataframe to be date_and_time"
      ],
      "metadata": {
        "id": "1LMtISPVycs5"
      }
    },
    {
      "cell_type": "code",
      "source": [
        "df.set_index('date_and_time', inplace=True)\n",
        "df.head()"
      ],
      "metadata": {
        "colab": {
          "base_uri": "https://localhost:8080/",
          "height": 420
        },
        "id": "GwUuhQ6VyiNW",
        "outputId": "d0ba2602-cc54-4c22-d9b9-fa8637e14395"
      },
      "execution_count": 16,
      "outputs": [
        {
          "output_type": "execute_result",
          "data": {
            "text/html": [
              "\n",
              "  <div id=\"df-99f8434b-1579-4c58-a21c-bc8a673e2e6c\">\n",
              "    <div class=\"colab-df-container\">\n",
              "      <div>\n",
              "<style scoped>\n",
              "    .dataframe tbody tr th:only-of-type {\n",
              "        vertical-align: middle;\n",
              "    }\n",
              "\n",
              "    .dataframe tbody tr th {\n",
              "        vertical-align: top;\n",
              "    }\n",
              "\n",
              "    .dataframe thead th {\n",
              "        text-align: right;\n",
              "    }\n",
              "</style>\n",
              "<table border=\"1\" class=\"dataframe\">\n",
              "  <thead>\n",
              "    <tr style=\"text-align: right;\">\n",
              "      <th></th>\n",
              "      <th>raw_row_number</th>\n",
              "      <th>location</th>\n",
              "      <th>subject_age</th>\n",
              "      <th>subject_race</th>\n",
              "      <th>subject_sex</th>\n",
              "      <th>officer_id_hash</th>\n",
              "      <th>department_id</th>\n",
              "      <th>type</th>\n",
              "      <th>violation</th>\n",
              "    </tr>\n",
              "    <tr>\n",
              "      <th>date_and_time</th>\n",
              "      <th></th>\n",
              "      <th></th>\n",
              "      <th></th>\n",
              "      <th></th>\n",
              "      <th></th>\n",
              "      <th></th>\n",
              "      <th></th>\n",
              "      <th></th>\n",
              "      <th></th>\n",
              "    </tr>\n",
              "  </thead>\n",
              "  <tbody>\n",
              "    <tr>\n",
              "      <th>2011-01-01 01:00:00</th>\n",
              "      <td>1</td>\n",
              "      <td>TRO COUNTY</td>\n",
              "      <td>23.0</td>\n",
              "      <td>white</td>\n",
              "      <td>male</td>\n",
              "      <td>791f232f61</td>\n",
              "      <td>B</td>\n",
              "      <td>vehicular</td>\n",
              "      <td>SEAT BELT: DRIVER</td>\n",
              "    </tr>\n",
              "    <tr>\n",
              "      <th>2011-01-01 01:00:00</th>\n",
              "      <td>2</td>\n",
              "      <td>TRO COUNTY</td>\n",
              "      <td>24.0</td>\n",
              "      <td>white</td>\n",
              "      <td>male</td>\n",
              "      <td>791f232f61</td>\n",
              "      <td>B</td>\n",
              "      <td>vehicular</td>\n",
              "      <td>SEAT BELT: PASSENGER</td>\n",
              "    </tr>\n",
              "    <tr>\n",
              "      <th>2011-01-01 01:29:00</th>\n",
              "      <td>3</td>\n",
              "      <td>2 WY 22|2 WY 22, TETON COUNTY</td>\n",
              "      <td>45.0</td>\n",
              "      <td>white</td>\n",
              "      <td>male</td>\n",
              "      <td>f369634e28</td>\n",
              "      <td>K</td>\n",
              "      <td>vehicular</td>\n",
              "      <td>DUI: ALCOHOL 0.08% OR MORE|DRIVE VEH W/I SINGL...</td>\n",
              "    </tr>\n",
              "    <tr>\n",
              "      <th>2011-01-01 03:00:00</th>\n",
              "      <td>4</td>\n",
              "      <td>111 I 80 E, SWEETWATER COUNTY</td>\n",
              "      <td>49.0</td>\n",
              "      <td>white</td>\n",
              "      <td>male</td>\n",
              "      <td>decf9509bb</td>\n",
              "      <td>E</td>\n",
              "      <td>vehicular</td>\n",
              "      <td>FAIL TO REPORT OVER $1,000 PROP DAMAGE OR INJURY</td>\n",
              "    </tr>\n",
              "    <tr>\n",
              "      <th>2011-01-01 04:15:00</th>\n",
              "      <td>5</td>\n",
              "      <td>10 26|10 26|10 26, PLATTE COUNTY</td>\n",
              "      <td>36.0</td>\n",
              "      <td>hispanic</td>\n",
              "      <td>male</td>\n",
              "      <td>3f486394a7</td>\n",
              "      <td>F</td>\n",
              "      <td>vehicular</td>\n",
              "      <td>PEDESTRIAN UND INFLU OF ALCOHOL OR CONTR SUBST...</td>\n",
              "    </tr>\n",
              "  </tbody>\n",
              "</table>\n",
              "</div>\n",
              "      <button class=\"colab-df-convert\" onclick=\"convertToInteractive('df-99f8434b-1579-4c58-a21c-bc8a673e2e6c')\"\n",
              "              title=\"Convert this dataframe to an interactive table.\"\n",
              "              style=\"display:none;\">\n",
              "        \n",
              "  <svg xmlns=\"http://www.w3.org/2000/svg\" height=\"24px\"viewBox=\"0 0 24 24\"\n",
              "       width=\"24px\">\n",
              "    <path d=\"M0 0h24v24H0V0z\" fill=\"none\"/>\n",
              "    <path d=\"M18.56 5.44l.94 2.06.94-2.06 2.06-.94-2.06-.94-.94-2.06-.94 2.06-2.06.94zm-11 1L8.5 8.5l.94-2.06 2.06-.94-2.06-.94L8.5 2.5l-.94 2.06-2.06.94zm10 10l.94 2.06.94-2.06 2.06-.94-2.06-.94-.94-2.06-.94 2.06-2.06.94z\"/><path d=\"M17.41 7.96l-1.37-1.37c-.4-.4-.92-.59-1.43-.59-.52 0-1.04.2-1.43.59L10.3 9.45l-7.72 7.72c-.78.78-.78 2.05 0 2.83L4 21.41c.39.39.9.59 1.41.59.51 0 1.02-.2 1.41-.59l7.78-7.78 2.81-2.81c.8-.78.8-2.07 0-2.86zM5.41 20L4 18.59l7.72-7.72 1.47 1.35L5.41 20z\"/>\n",
              "  </svg>\n",
              "      </button>\n",
              "      \n",
              "  <style>\n",
              "    .colab-df-container {\n",
              "      display:flex;\n",
              "      flex-wrap:wrap;\n",
              "      gap: 12px;\n",
              "    }\n",
              "\n",
              "    .colab-df-convert {\n",
              "      background-color: #E8F0FE;\n",
              "      border: none;\n",
              "      border-radius: 50%;\n",
              "      cursor: pointer;\n",
              "      display: none;\n",
              "      fill: #1967D2;\n",
              "      height: 32px;\n",
              "      padding: 0 0 0 0;\n",
              "      width: 32px;\n",
              "    }\n",
              "\n",
              "    .colab-df-convert:hover {\n",
              "      background-color: #E2EBFA;\n",
              "      box-shadow: 0px 1px 2px rgba(60, 64, 67, 0.3), 0px 1px 3px 1px rgba(60, 64, 67, 0.15);\n",
              "      fill: #174EA6;\n",
              "    }\n",
              "\n",
              "    [theme=dark] .colab-df-convert {\n",
              "      background-color: #3B4455;\n",
              "      fill: #D2E3FC;\n",
              "    }\n",
              "\n",
              "    [theme=dark] .colab-df-convert:hover {\n",
              "      background-color: #434B5C;\n",
              "      box-shadow: 0px 1px 3px 1px rgba(0, 0, 0, 0.15);\n",
              "      filter: drop-shadow(0px 1px 2px rgba(0, 0, 0, 0.3));\n",
              "      fill: #FFFFFF;\n",
              "    }\n",
              "  </style>\n",
              "\n",
              "      <script>\n",
              "        const buttonEl =\n",
              "          document.querySelector('#df-99f8434b-1579-4c58-a21c-bc8a673e2e6c button.colab-df-convert');\n",
              "        buttonEl.style.display =\n",
              "          google.colab.kernel.accessAllowed ? 'block' : 'none';\n",
              "\n",
              "        async function convertToInteractive(key) {\n",
              "          const element = document.querySelector('#df-99f8434b-1579-4c58-a21c-bc8a673e2e6c');\n",
              "          const dataTable =\n",
              "            await google.colab.kernel.invokeFunction('convertToInteractive',\n",
              "                                                     [key], {});\n",
              "          if (!dataTable) return;\n",
              "\n",
              "          const docLinkHtml = 'Like what you see? Visit the ' +\n",
              "            '<a target=\"_blank\" href=https://colab.research.google.com/notebooks/data_table.ipynb>data table notebook</a>'\n",
              "            + ' to learn more about interactive tables.';\n",
              "          element.innerHTML = '';\n",
              "          dataTable['output_type'] = 'display_data';\n",
              "          await google.colab.output.renderOutput(dataTable, element);\n",
              "          const docLink = document.createElement('div');\n",
              "          docLink.innerHTML = docLinkHtml;\n",
              "          element.appendChild(docLink);\n",
              "        }\n",
              "      </script>\n",
              "    </div>\n",
              "  </div>\n",
              "  "
            ],
            "text/plain": [
              "                     raw_row_number  ...                                          violation\n",
              "date_and_time                        ...                                                   \n",
              "2011-01-01 01:00:00               1  ...                                  SEAT BELT: DRIVER\n",
              "2011-01-01 01:00:00               2  ...                               SEAT BELT: PASSENGER\n",
              "2011-01-01 01:29:00               3  ...  DUI: ALCOHOL 0.08% OR MORE|DRIVE VEH W/I SINGL...\n",
              "2011-01-01 03:00:00               4  ...   FAIL TO REPORT OVER $1,000 PROP DAMAGE OR INJURY\n",
              "2011-01-01 04:15:00               5  ...  PEDESTRIAN UND INFLU OF ALCOHOL OR CONTR SUBST...\n",
              "\n",
              "[5 rows x 9 columns]"
            ]
          },
          "metadata": {},
          "execution_count": 16
        }
      ]
    },
    {
      "cell_type": "code",
      "source": [
        "df.index"
      ],
      "metadata": {
        "colab": {
          "base_uri": "https://localhost:8080/"
        },
        "id": "6XIC0iNByrVU",
        "outputId": "1d3e6103-809e-45ba-8b83-ceb4291d15ec"
      },
      "execution_count": 17,
      "outputs": [
        {
          "output_type": "execute_result",
          "data": {
            "text/plain": [
              "DatetimeIndex(['2011-01-01 01:00:00', '2011-01-01 01:00:00',\n",
              "               '2011-01-01 01:29:00', '2011-01-01 03:00:00',\n",
              "               '2011-01-01 04:15:00', '2011-01-01 05:55:00',\n",
              "               '2011-01-01 06:20:00', '2011-01-01 07:30:00',\n",
              "               '2011-01-01 08:00:00', '2011-01-01 08:15:00',\n",
              "               ...\n",
              "               '2012-09-23 18:50:00', '2012-09-23 19:05:00',\n",
              "               '2012-09-23 19:20:00', '2012-09-23 19:25:00',\n",
              "               '2012-09-23 19:43:00', '2012-09-23 20:05:00',\n",
              "               '2012-09-23 20:08:00', '2012-09-23 20:20:00',\n",
              "               '2012-09-23 20:50:00', '2012-09-23 21:20:00'],\n",
              "              dtype='datetime64[ns]', name='date_and_time', length=144885, freq=None)"
            ]
          },
          "metadata": {},
          "execution_count": 17
        }
      ]
    },
    {
      "cell_type": "code",
      "source": [
        "df.columns.values"
      ],
      "metadata": {
        "colab": {
          "base_uri": "https://localhost:8080/"
        },
        "id": "Rj3DF04KyuIY",
        "outputId": "6045bc60-69ac-4906-f32c-afbdb792e975"
      },
      "execution_count": 18,
      "outputs": [
        {
          "output_type": "execute_result",
          "data": {
            "text/plain": [
              "array(['raw_row_number', 'location', 'subject_age', 'subject_race',\n",
              "       'subject_sex', 'officer_id_hash', 'department_id', 'type',\n",
              "       'violation'], dtype=object)"
            ]
          },
          "metadata": {},
          "execution_count": 18
        }
      ]
    },
    {
      "cell_type": "markdown",
      "source": [
        "# Visualise subject_age over time (linegraph, histogram, boxplot)"
      ],
      "metadata": {
        "id": "x8zn1etqyw-Y"
      }
    },
    {
      "cell_type": "code",
      "source": [
        "import matplotlib.pyplot as plt\n",
        "%matplotlib inline"
      ],
      "metadata": {
        "id": "XZassUG8y5ri"
      },
      "execution_count": 19,
      "outputs": []
    },
    {
      "cell_type": "code",
      "source": [
        "plt.plot(df['subject_age'])"
      ],
      "metadata": {
        "colab": {
          "base_uri": "https://localhost:8080/",
          "height": 282
        },
        "id": "-Wss1c5bzCZ5",
        "outputId": "f4fcd467-3427-4ecc-9d9e-878332595701"
      },
      "execution_count": 20,
      "outputs": [
        {
          "output_type": "execute_result",
          "data": {
            "text/plain": [
              "[<matplotlib.lines.Line2D at 0x7f4a17e7eed0>]"
            ]
          },
          "metadata": {},
          "execution_count": 20
        },
        {
          "output_type": "display_data",
          "data": {
            "image/png": "[encoded data removed]",
            "text/plain": [
              "<Figure size 432x288 with 1 Axes>"
            ]
          },
          "metadata": {
            "needs_background": "light"
          }
        }
      ]
    },
    {
      "cell_type": "code",
      "source": [
        "plt.plot(df['subject_age'][0:50])\n",
        "plt.ylabel('Age')\n",
        "plt.title('First 50 rows')\n",
        "plt.grid()\n",
        "plt.show()"
      ],
      "metadata": {
        "colab": {
          "base_uri": "https://localhost:8080/",
          "height": 281
        },
        "id": "UUkgzDhOzNSz",
        "outputId": "a7eaf8b6-8a9e-410c-ffef-002b4d5e5a69"
      },
      "execution_count": 21,
      "outputs": [
        {
          "output_type": "display_data",
          "data": {
            "image/png": "[encoded data removed]",
            "text/plain": [
              "<Figure size 432x288 with 1 Axes>"
            ]
          },
          "metadata": {
            "needs_background": "light"
          }
        }
      ]
    },
    {
      "cell_type": "code",
      "source": [
        "df.shape"
      ],
      "metadata": {
        "colab": {
          "base_uri": "https://localhost:8080/"
        },
        "id": "6CxBTnuszjGw",
        "outputId": "acf2b867-c2b3-4b4a-e267-6f42b52cfbaf"
      },
      "execution_count": 22,
      "outputs": [
        {
          "output_type": "execute_result",
          "data": {
            "text/plain": [
              "(144885, 9)"
            ]
          },
          "metadata": {},
          "execution_count": 22
        }
      ]
    },
    {
      "cell_type": "code",
      "source": [
        "plt.hist(df['subject_age'])\n",
        "plt.xlabel('Age')\n",
        "plt.ylabel('Frequency')\n",
        "plt.grid()\n",
        "plt.show()"
      ],
      "metadata": {
        "colab": {
          "base_uri": "https://localhost:8080/",
          "height": 279
        },
        "id": "w7Ekryslzpp9",
        "outputId": "b26bd644-abbe-401d-8fbf-3494a949e6e8"
      },
      "execution_count": 23,
      "outputs": [
        {
          "output_type": "display_data",
          "data": {
            "image/png": "[encoded data removed]",
            "text/plain": [
              "<Figure size 432x288 with 1 Axes>"
            ]
          },
          "metadata": {
            "needs_background": "light"
          }
        }
      ]
    },
    {
      "cell_type": "code",
      "source": [
        "plt.boxplot(df['subject_age'], vert=False)\n",
        "plt.ylabel('Age')\n",
        "plt.grid()\n",
        "plt.show()"
      ],
      "metadata": {
        "colab": {
          "base_uri": "https://localhost:8080/",
          "height": 265
        },
        "id": "jyOZlUNSz3gd",
        "outputId": "f1cb900c-58ec-4276-f7af-2c44d733f9a3"
      },
      "execution_count": 24,
      "outputs": [
        {
          "output_type": "display_data",
          "data": {
            "image/png": "[encoded data removed]",
            "text/plain": [
              "<Figure size 432x288 with 1 Axes>"
            ]
          },
          "metadata": {
            "needs_background": "light"
          }
        }
      ]
    }
  ]
}