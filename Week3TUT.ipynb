{
  "nbformat": 4,
  "nbformat_minor": 0,
  "metadata": {
    "colab": {
      "name": "Week3TUT.ipynb",
      "provenance": [],
      "authorship_tag": "ABX9TyO44/QY0i9PxlDopXP8KMoC",
      "include_colab_link": true
    },
    "kernelspec": {
      "name": "python3",
      "display_name": "Python 3"
    },
    "language_info": {
      "name": "python"
    }
  },
  "cells": [
    {
      "cell_type": "markdown",
      "metadata": {
        "id": "view-in-github",
        "colab_type": "text"
      },
      "source": [
        "<a href=\"https://colab.research.google.com/github/HamzahSarmad/Y3_CO3093_Big_Data_And_Predictive_Analytics/blob/main/Week3TUT.ipynb\" target=\"_parent\"><img src=\"https://colab.research.google.com/assets/colab-badge.svg\" alt=\"Open In Colab\"/></a>"
      ]
    },
    {
      "cell_type": "markdown",
      "source": [
        "# Exercise 1 (Confidence Intervals)"
      ],
      "metadata": {
        "id": "xtvFbJzQTe_f"
      }
    },
    {
      "cell_type": "code",
      "source": [
        "import numpy as np\n",
        "import scipy.stats as st\n",
        "\n",
        "purchase = np.array([3., 30., 50., 15.])\n",
        "visit = np.array([24, 180, 250, 100])\n",
        "ratio = purchase/visit\n",
        "print('Initial ratio is {}'.format(ratio))"
      ],
      "metadata": {
        "colab": {
          "base_uri": "https://localhost:8080/"
        },
        "id": "MR4rp4CPTk91",
        "outputId": "4b2b1a7d-0855-473b-9594-a3af82665264"
      },
      "execution_count": 1,
      "outputs": [
        {
          "output_type": "stream",
          "name": "stdout",
          "text": [
            "Initial ratio is [0.125      0.16666667 0.2        0.15      ]\n"
          ]
        }
      ]
    },
    {
      "cell_type": "code",
      "source": [
        "adj_ratio = (purchase+2)/(visit+4)\n",
        "print(adj_ratio)"
      ],
      "metadata": {
        "colab": {
          "base_uri": "https://localhost:8080/"
        },
        "id": "_KepUnGYTrWC",
        "outputId": "cf993b11-4fa7-49bc-bac2-f4828ed2fc70"
      },
      "execution_count": 2,
      "outputs": [
        {
          "output_type": "stream",
          "name": "stdout",
          "text": [
            "[0.17857143 0.17391304 0.20472441 0.16346154]\n"
          ]
        }
      ]
    },
    {
      "cell_type": "code",
      "source": [
        "z = st.norm.ppf(0.975)\n",
        "print('Z value corresponding to a 95% CI for the normal distribution is {:5.2f}'.format(z))"
      ],
      "metadata": {
        "colab": {
          "base_uri": "https://localhost:8080/"
        },
        "id": "D1CGbOO-TtKu",
        "outputId": "56a5ce9b-c33d-4dde-e140-82d25735bf2a"
      },
      "execution_count": 3,
      "outputs": [
        {
          "output_type": "stream",
          "name": "stdout",
          "text": [
            "Z value corresponding to a 95% CI for the normal distribution is  1.96\n"
          ]
        }
      ]
    },
    {
      "cell_type": "code",
      "source": [
        "#Using the given formula to compute the confidence interval\n",
        "lb = adj_ratio - z*np.sqrt(adj_ratio*(1-adj_ratio)/visit)\n",
        "ub = adj_ratio + z*np.sqrt(adj_ratio*(1-adj_ratio)/visit)\n",
        "print('Lower bounds of the 95% CI is {}'.format(lb))\n",
        "print('Upper bounds of the 95% CI is {}'.format(ub))"
      ],
      "metadata": {
        "colab": {
          "base_uri": "https://localhost:8080/"
        },
        "id": "5xkxZVO3TwHk",
        "outputId": "2cf701ba-bc6c-4a06-c423-a85016cf5a15"
      },
      "execution_count": 4,
      "outputs": [
        {
          "output_type": "stream",
          "name": "stdout",
          "text": [
            "Lower bounds of the 95% CI is [0.02534511 0.11854097 0.15470694 0.09098477]\n",
            "Upper bounds of the 95% CI is [0.33179774 0.22928512 0.25474188 0.23593831]\n"
          ]
        }
      ]
    },
    {
      "cell_type": "code",
      "source": [
        "data = [11.1, 9.4, 9.9, 13.3, 10.3, 12.2, 5.7, 8.1, 15.7, 9.1, 10.6,\\\n",
        "9.2, 8.9, 12.7, 10.2, 10.8, 11.0, 9.5, 8.9, 12.3, 11.2, 10.3,\\\n",
        "10.9, 14.8, 8.8, 10.3, 13.0, 10.2, 9.4, 8.9, 10.6, 9.3, 7.9,\\\n",
        "12.5, 9.6, 10.1]"
      ],
      "metadata": {
        "id": "DpluQpT4T2FZ"
      },
      "execution_count": 5,
      "outputs": []
    },
    {
      "cell_type": "code",
      "source": [
        "n = len(data)\n",
        "mu = 10\n",
        "sm = np.mean(data)\n",
        "print('Sample mean is {:6.3f}'.format(sm))"
      ],
      "metadata": {
        "colab": {
          "base_uri": "https://localhost:8080/"
        },
        "id": "W1vdJT7YT3p6",
        "outputId": "e548f899-5da9-4bd5-e905-3198817621b4"
      },
      "execution_count": 6,
      "outputs": [
        {
          "output_type": "stream",
          "name": "stdout",
          "text": [
            "Sample mean is 10.464\n"
          ]
        }
      ]
    },
    {
      "cell_type": "code",
      "source": [
        "s = np.std(data)\n",
        "print('Sample std is {:6.3f}'.format(s))"
      ],
      "metadata": {
        "colab": {
          "base_uri": "https://localhost:8080/"
        },
        "id": "Ltgr7lzLT4ek",
        "outputId": "0770f2e6-9e3b-4035-ae80-aa67befcb177"
      },
      "execution_count": 7,
      "outputs": [
        {
          "output_type": "stream",
          "name": "stdout",
          "text": [
            "Sample std is  1.916\n"
          ]
        }
      ]
    },
    {
      "cell_type": "code",
      "source": [
        "zval = (sm-mu)/(s/np.sqrt(n))\n",
        "print('Z-value is {:6.3f}'.format(zval))"
      ],
      "metadata": {
        "colab": {
          "base_uri": "https://localhost:8080/"
        },
        "id": "v-UUkANMT5fb",
        "outputId": "efc278ae-b27d-4a00-c91c-a01c293db5e0"
      },
      "execution_count": 8,
      "outputs": [
        {
          "output_type": "stream",
          "name": "stdout",
          "text": [
            "Z-value is  1.453\n"
          ]
        }
      ]
    },
    {
      "cell_type": "code",
      "source": [
        "pval = st.norm.sf(zval)*2 #2-sided test\n",
        "print('p-value is {:6.3f}'.format(pval))"
      ],
      "metadata": {
        "colab": {
          "base_uri": "https://localhost:8080/"
        },
        "id": "OCd34Ll2T7Nb",
        "outputId": "c08fce88-22d6-44b0-8902-d5a2d7c27399"
      },
      "execution_count": 9,
      "outputs": [
        {
          "output_type": "stream",
          "name": "stdout",
          "text": [
            "p-value is  0.146\n"
          ]
        }
      ]
    }
  ]
}